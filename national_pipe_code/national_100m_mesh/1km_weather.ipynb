{
 "cells": [
  {
   "cell_type": "code",
   "execution_count": 3,
   "metadata": {},
   "outputs": [],
   "source": [
    "import urllib.request\n",
    "import os\n",
    "import zipfile\n",
    "import pandas as pd\n",
    "from pandas import DataFrame\n",
    "import geopandas as gpd\n",
    "from shapely import wkt"
   ]
  },
  {
   "cell_type": "code",
   "execution_count": 4,
   "metadata": {},
   "outputs": [],
   "source": [
    "mesh1_path = 'I:/マイドライブ/水道管劣化予測/水道管劣化予測/src/国土数値情報/土地利用メッシュ/mesh_for_work/mesh1_code/mesh1.csv'\n",
    "mesh1_code = pd.read_csv(mesh1_path)\n",
    "\n",
    "mesh1_code = pd.DataFrame(mesh1_code, columns=['Name'])"
   ]
  },
  {
   "cell_type": "code",
   "execution_count": 5,
   "metadata": {},
   "outputs": [],
   "source": [
    "# 平成28年のデータの読み込み\n",
    "base_url = \"https://nlftp.mlit.go.jp/ksj/gml/data/G02/G02-22/G02-22_\"\n",
    "# mesh1_codeが前のRのコードの結果として得られるリストまたは配列と仮定します\n",
    "# mesh1_codeの値を使ってURLを組み立て\n",
    "url_list = [base_url + str(code) + \"-jgd_GML.zip\" for code in mesh1_code['Name']]"
   ]
  },
  {
   "cell_type": "code",
   "execution_count": 4,
   "metadata": {},
   "outputs": [
    {
     "name": "stdout",
     "output_type": "stream",
     "text": [
      "https://nlftp.mlit.go.jp/ksj/gml/data/G02/G02-22/G02-22_3036-jgd_GML.zip did not work out due to HTTP Error 404: Not Found\n",
      "https://nlftp.mlit.go.jp/ksj/gml/data/G02/G02-22/G02-22_4440-jgd_GML.zip did not work out due to HTTP Error 404: Not Found\n",
      "https://nlftp.mlit.go.jp/ksj/gml/data/G02/G02-22/G02-22_4739-jgd_GML.zip did not work out due to HTTP Error 404: Not Found\n",
      "https://nlftp.mlit.go.jp/ksj/gml/data/G02/G02-22/G02-22_5038-jgd_GML.zip did not work out due to HTTP Error 404: Not Found\n",
      "https://nlftp.mlit.go.jp/ksj/gml/data/G02/G02-22/G02-22_6740-jgd_GML.zip did not work out due to HTTP Error 404: Not Found\n",
      "['https://nlftp.mlit.go.jp/ksj/gml/data/G02/G02-22/G02-22_3036-jgd_GML.zip', 'https://nlftp.mlit.go.jp/ksj/gml/data/G02/G02-22/G02-22_4440-jgd_GML.zip', 'https://nlftp.mlit.go.jp/ksj/gml/data/G02/G02-22/G02-22_4739-jgd_GML.zip', 'https://nlftp.mlit.go.jp/ksj/gml/data/G02/G02-22/G02-22_5038-jgd_GML.zip', 'https://nlftp.mlit.go.jp/ksj/gml/data/G02/G02-22/G02-22_6740-jgd_GML.zip']\n"
     ]
    }
   ],
   "source": [
    "disable_mesh1_list = []\n",
    "\n",
    "for i, url in enumerate(url_list):\n",
    "    # 保存ファイル名の指定\n",
    "    destfile = f\"I:/マイドライブ/水道管劣化予測/水道管劣化予測/src/国土数値情報/平年値メッシュ/weather_mesh_for_work/weather_zip/weather_mesh_{mesh1_code['Name'][i]}.zip\"\n",
    "    \n",
    "    # ダウンロード（データがない場合はスキップ）\n",
    "    try:\n",
    "        urllib.request.urlretrieve(url, destfile)\n",
    "    except Exception as e:\n",
    "        print(f\"{url} did not work out due to {e}\")\n",
    "        disable_mesh1_list.append(url)\n",
    "        \n",
    "print(disable_mesh1_list)"
   ]
  },
  {
   "cell_type": "code",
   "execution_count": 5,
   "metadata": {},
   "outputs": [],
   "source": [
    "# zipファイルパスの取得\n",
    "zip_path = 'I:/マイドライブ/水道管劣化予測/水道管劣化予測/src/国土数値情報/平年値メッシュ/weather_mesh_for_work/weather_zip'\n",
    "ziplist = [os.path.join(zip_path, f) for f in os.listdir(zip_path) if f.endswith('.zip')]\n",
    "\n",
    "# 保存ファイル名用\n",
    "mesh_file = 'I:/マイドライブ/水道管劣化予測/水道管劣化予測/src/国土数値情報/平年値メッシュ/weather_mesh_for_work/weather_extract'\n",
    "filename = [f for f in os.listdir(mesh_file) if f.endswith('.zip')]\n",
    "\n",
    "# zipファイルの解凍\n",
    "for i, zip_path in enumerate(ziplist):\n",
    "    # zipファイルの解凍\n",
    "    with zipfile.ZipFile(zip_path, 'r') as zip_ref:\n",
    "        zip_ref.extractall(mesh_file)"
   ]
  },
  {
   "cell_type": "code",
   "execution_count": 6,
   "metadata": {},
   "outputs": [],
   "source": [
    "# shpファイルのフルパスを作成\n",
    "root_path = \"I:/マイドライブ/水道管劣化予測/水道管劣化予測/src/国土数値情報/平年値メッシュ/weather_mesh_for_work\"\n",
    "shp_list = []\n",
    "for dirpath, dirnames, filenames in os.walk(root_path):\n",
    "    for filename in filenames:\n",
    "        if filename.endswith('.shp'):\n",
    "            shp_list.append(os.path.join(dirpath, filename))\n",
    "\n",
    "# shpファイルの読み込み\n",
    "dataframes = []\n",
    "for shp_path in shp_list:\n",
    "    dataframes.append(gpd.read_file(shp_path, encoding='shift-jis'))"
   ]
  },
  {
   "cell_type": "code",
   "execution_count": 7,
   "metadata": {},
   "outputs": [
    {
     "ename": "",
     "evalue": "",
     "output_type": "error",
     "traceback": [
      "\u001b[1;31mThe Kernel crashed while executing code in the the current cell or a previous cell. Please review the code in the cell(s) to identify a possible cause of the failure. Click <a href='https://aka.ms/vscodeJupyterKernelCrash'>here</a> for more info. View Jupyter <a href='command:jupyter.viewOutput'>log</a> for further details."
     ]
    }
   ],
   "source": [
    "# マージ\n",
    "national_1km_weather = gpd.GeoDataFrame(columns=[dataframes[0].columns])\n",
    "\n",
    "disable_mesh_gdf = []\n",
    "for gdf in dataframes:\n",
    "    #座標系の変換\n",
    "    dst_proj = 4326  # 変換後の座標系を指定\n",
    "    gdf = gdf.to_crs(epsg=dst_proj)  # 変換後座標に変換\n",
    "    if set(dataframes[0]).issubset(gdf.columns):\n",
    "        national_1km_weather = pd.concat([national_1km_weather, gdf], ignore_index=True, verify_integrity=True)\n",
    "        \n",
    "    else:\n",
    "        print(f\"{gdf} does not have the required columns and will not be merged.\")\n",
    "        disable_mesh_gdf.append(gdf)"
   ]
  },
  {
   "cell_type": "code",
   "execution_count": 63,
   "metadata": {},
   "outputs": [
    {
     "name": "stderr",
     "output_type": "stream",
     "text": [
      "c:\\Users\\imai_14\\anaconda3\\envs\\microbase\\lib\\site-packages\\IPython\\core\\interactiveshell.py:3338: FutureWarning: The `op` parameter is deprecated and will be removed in a future release. Please use the `predicate` parameter instead.\n",
      "  if await self.run_code(code, result, async_=asy):\n"
     ]
    },
    {
     "name": "stdout",
     "output_type": "stream",
     "text": [
      "--3県の出力中--\n",
      "--3県の出力完了--\n"
     ]
    },
    {
     "name": "stderr",
     "output_type": "stream",
     "text": [
      "c:\\Users\\imai_14\\anaconda3\\envs\\microbase\\lib\\site-packages\\IPython\\core\\interactiveshell.py:3338: FutureWarning: The `op` parameter is deprecated and will be removed in a future release. Please use the `predicate` parameter instead.\n",
      "  if await self.run_code(code, result, async_=asy):\n"
     ]
    },
    {
     "name": "stdout",
     "output_type": "stream",
     "text": [
      "--4県の出力中--\n",
      "--4県の出力完了--\n"
     ]
    },
    {
     "name": "stderr",
     "output_type": "stream",
     "text": [
      "c:\\Users\\imai_14\\anaconda3\\envs\\microbase\\lib\\site-packages\\IPython\\core\\interactiveshell.py:3338: FutureWarning: The `op` parameter is deprecated and will be removed in a future release. Please use the `predicate` parameter instead.\n",
      "  if await self.run_code(code, result, async_=asy):\n"
     ]
    },
    {
     "name": "stdout",
     "output_type": "stream",
     "text": [
      "--5県の出力中--\n",
      "--5県の出力完了--\n"
     ]
    },
    {
     "name": "stderr",
     "output_type": "stream",
     "text": [
      "c:\\Users\\imai_14\\anaconda3\\envs\\microbase\\lib\\site-packages\\IPython\\core\\interactiveshell.py:3338: FutureWarning: The `op` parameter is deprecated and will be removed in a future release. Please use the `predicate` parameter instead.\n",
      "  if await self.run_code(code, result, async_=asy):\n"
     ]
    },
    {
     "name": "stdout",
     "output_type": "stream",
     "text": [
      "--6県の出力中--\n",
      "--6県の出力完了--\n"
     ]
    },
    {
     "name": "stderr",
     "output_type": "stream",
     "text": [
      "c:\\Users\\imai_14\\anaconda3\\envs\\microbase\\lib\\site-packages\\IPython\\core\\interactiveshell.py:3338: FutureWarning: The `op` parameter is deprecated and will be removed in a future release. Please use the `predicate` parameter instead.\n",
      "  if await self.run_code(code, result, async_=asy):\n"
     ]
    },
    {
     "name": "stdout",
     "output_type": "stream",
     "text": [
      "--7県の出力中--\n",
      "--7県の出力完了--\n"
     ]
    },
    {
     "name": "stderr",
     "output_type": "stream",
     "text": [
      "c:\\Users\\imai_14\\anaconda3\\envs\\microbase\\lib\\site-packages\\IPython\\core\\interactiveshell.py:3338: FutureWarning: The `op` parameter is deprecated and will be removed in a future release. Please use the `predicate` parameter instead.\n",
      "  if await self.run_code(code, result, async_=asy):\n"
     ]
    },
    {
     "name": "stdout",
     "output_type": "stream",
     "text": [
      "--8県の出力中--\n",
      "--8県の出力完了--\n"
     ]
    },
    {
     "name": "stderr",
     "output_type": "stream",
     "text": [
      "c:\\Users\\imai_14\\anaconda3\\envs\\microbase\\lib\\site-packages\\IPython\\core\\interactiveshell.py:3338: FutureWarning: The `op` parameter is deprecated and will be removed in a future release. Please use the `predicate` parameter instead.\n",
      "  if await self.run_code(code, result, async_=asy):\n"
     ]
    },
    {
     "name": "stdout",
     "output_type": "stream",
     "text": [
      "--9県の出力中--\n",
      "--9県の出力完了--\n"
     ]
    },
    {
     "name": "stderr",
     "output_type": "stream",
     "text": [
      "c:\\Users\\imai_14\\anaconda3\\envs\\microbase\\lib\\site-packages\\IPython\\core\\interactiveshell.py:3338: FutureWarning: The `op` parameter is deprecated and will be removed in a future release. Please use the `predicate` parameter instead.\n",
      "  if await self.run_code(code, result, async_=asy):\n"
     ]
    },
    {
     "name": "stdout",
     "output_type": "stream",
     "text": [
      "--10県の出力中--\n",
      "--10県の出力完了--\n"
     ]
    },
    {
     "name": "stderr",
     "output_type": "stream",
     "text": [
      "c:\\Users\\imai_14\\anaconda3\\envs\\microbase\\lib\\site-packages\\IPython\\core\\interactiveshell.py:3338: FutureWarning: The `op` parameter is deprecated and will be removed in a future release. Please use the `predicate` parameter instead.\n",
      "  if await self.run_code(code, result, async_=asy):\n"
     ]
    },
    {
     "name": "stdout",
     "output_type": "stream",
     "text": [
      "--11県の出力中--\n",
      "--11県の出力完了--\n"
     ]
    },
    {
     "name": "stderr",
     "output_type": "stream",
     "text": [
      "c:\\Users\\imai_14\\anaconda3\\envs\\microbase\\lib\\site-packages\\IPython\\core\\interactiveshell.py:3338: FutureWarning: The `op` parameter is deprecated and will be removed in a future release. Please use the `predicate` parameter instead.\n",
      "  if await self.run_code(code, result, async_=asy):\n"
     ]
    },
    {
     "name": "stdout",
     "output_type": "stream",
     "text": [
      "--12県の出力中--\n",
      "--12県の出力完了--\n"
     ]
    },
    {
     "name": "stderr",
     "output_type": "stream",
     "text": [
      "c:\\Users\\imai_14\\anaconda3\\envs\\microbase\\lib\\site-packages\\IPython\\core\\interactiveshell.py:3338: FutureWarning: The `op` parameter is deprecated and will be removed in a future release. Please use the `predicate` parameter instead.\n",
      "  if await self.run_code(code, result, async_=asy):\n"
     ]
    },
    {
     "name": "stdout",
     "output_type": "stream",
     "text": [
      "--13県の出力中--\n",
      "--13県の出力完了--\n"
     ]
    },
    {
     "name": "stderr",
     "output_type": "stream",
     "text": [
      "c:\\Users\\imai_14\\anaconda3\\envs\\microbase\\lib\\site-packages\\IPython\\core\\interactiveshell.py:3338: FutureWarning: The `op` parameter is deprecated and will be removed in a future release. Please use the `predicate` parameter instead.\n",
      "  if await self.run_code(code, result, async_=asy):\n"
     ]
    },
    {
     "name": "stdout",
     "output_type": "stream",
     "text": [
      "--14県の出力中--\n",
      "--14県の出力完了--\n"
     ]
    },
    {
     "name": "stderr",
     "output_type": "stream",
     "text": [
      "c:\\Users\\imai_14\\anaconda3\\envs\\microbase\\lib\\site-packages\\IPython\\core\\interactiveshell.py:3338: FutureWarning: The `op` parameter is deprecated and will be removed in a future release. Please use the `predicate` parameter instead.\n",
      "  if await self.run_code(code, result, async_=asy):\n"
     ]
    },
    {
     "name": "stdout",
     "output_type": "stream",
     "text": [
      "--15県の出力中--\n",
      "--15県の出力完了--\n"
     ]
    },
    {
     "name": "stderr",
     "output_type": "stream",
     "text": [
      "c:\\Users\\imai_14\\anaconda3\\envs\\microbase\\lib\\site-packages\\IPython\\core\\interactiveshell.py:3338: FutureWarning: The `op` parameter is deprecated and will be removed in a future release. Please use the `predicate` parameter instead.\n",
      "  if await self.run_code(code, result, async_=asy):\n"
     ]
    },
    {
     "name": "stdout",
     "output_type": "stream",
     "text": [
      "--16県の出力中--\n",
      "--16県の出力完了--\n"
     ]
    },
    {
     "name": "stderr",
     "output_type": "stream",
     "text": [
      "c:\\Users\\imai_14\\anaconda3\\envs\\microbase\\lib\\site-packages\\IPython\\core\\interactiveshell.py:3338: FutureWarning: The `op` parameter is deprecated and will be removed in a future release. Please use the `predicate` parameter instead.\n",
      "  if await self.run_code(code, result, async_=asy):\n"
     ]
    },
    {
     "name": "stdout",
     "output_type": "stream",
     "text": [
      "--17県の出力中--\n",
      "--17県の出力完了--\n"
     ]
    },
    {
     "name": "stderr",
     "output_type": "stream",
     "text": [
      "c:\\Users\\imai_14\\anaconda3\\envs\\microbase\\lib\\site-packages\\IPython\\core\\interactiveshell.py:3338: FutureWarning: The `op` parameter is deprecated and will be removed in a future release. Please use the `predicate` parameter instead.\n",
      "  if await self.run_code(code, result, async_=asy):\n"
     ]
    },
    {
     "name": "stdout",
     "output_type": "stream",
     "text": [
      "--18県の出力中--\n",
      "--18県の出力完了--\n"
     ]
    },
    {
     "name": "stderr",
     "output_type": "stream",
     "text": [
      "c:\\Users\\imai_14\\anaconda3\\envs\\microbase\\lib\\site-packages\\IPython\\core\\interactiveshell.py:3338: FutureWarning: The `op` parameter is deprecated and will be removed in a future release. Please use the `predicate` parameter instead.\n",
      "  if await self.run_code(code, result, async_=asy):\n"
     ]
    },
    {
     "name": "stdout",
     "output_type": "stream",
     "text": [
      "--19県の出力中--\n",
      "--19県の出力完了--\n"
     ]
    },
    {
     "name": "stderr",
     "output_type": "stream",
     "text": [
      "c:\\Users\\imai_14\\anaconda3\\envs\\microbase\\lib\\site-packages\\IPython\\core\\interactiveshell.py:3338: FutureWarning: The `op` parameter is deprecated and will be removed in a future release. Please use the `predicate` parameter instead.\n",
      "  if await self.run_code(code, result, async_=asy):\n"
     ]
    },
    {
     "name": "stdout",
     "output_type": "stream",
     "text": [
      "--20県の出力中--\n",
      "--20県の出力完了--\n"
     ]
    },
    {
     "name": "stderr",
     "output_type": "stream",
     "text": [
      "c:\\Users\\imai_14\\anaconda3\\envs\\microbase\\lib\\site-packages\\IPython\\core\\interactiveshell.py:3338: FutureWarning: The `op` parameter is deprecated and will be removed in a future release. Please use the `predicate` parameter instead.\n",
      "  if await self.run_code(code, result, async_=asy):\n"
     ]
    },
    {
     "name": "stdout",
     "output_type": "stream",
     "text": [
      "--21県の出力中--\n",
      "--21県の出力完了--\n"
     ]
    },
    {
     "name": "stderr",
     "output_type": "stream",
     "text": [
      "c:\\Users\\imai_14\\anaconda3\\envs\\microbase\\lib\\site-packages\\IPython\\core\\interactiveshell.py:3338: FutureWarning: The `op` parameter is deprecated and will be removed in a future release. Please use the `predicate` parameter instead.\n",
      "  if await self.run_code(code, result, async_=asy):\n"
     ]
    },
    {
     "name": "stdout",
     "output_type": "stream",
     "text": [
      "--22県の出力中--\n",
      "--22県の出力完了--\n"
     ]
    },
    {
     "name": "stderr",
     "output_type": "stream",
     "text": [
      "c:\\Users\\imai_14\\anaconda3\\envs\\microbase\\lib\\site-packages\\IPython\\core\\interactiveshell.py:3338: FutureWarning: The `op` parameter is deprecated and will be removed in a future release. Please use the `predicate` parameter instead.\n",
      "  if await self.run_code(code, result, async_=asy):\n"
     ]
    },
    {
     "name": "stdout",
     "output_type": "stream",
     "text": [
      "--23県の出力中--\n",
      "--23県の出力完了--\n"
     ]
    },
    {
     "name": "stderr",
     "output_type": "stream",
     "text": [
      "c:\\Users\\imai_14\\anaconda3\\envs\\microbase\\lib\\site-packages\\IPython\\core\\interactiveshell.py:3338: FutureWarning: The `op` parameter is deprecated and will be removed in a future release. Please use the `predicate` parameter instead.\n",
      "  if await self.run_code(code, result, async_=asy):\n"
     ]
    },
    {
     "name": "stdout",
     "output_type": "stream",
     "text": [
      "--24県の出力中--\n",
      "--24県の出力完了--\n"
     ]
    },
    {
     "name": "stderr",
     "output_type": "stream",
     "text": [
      "c:\\Users\\imai_14\\anaconda3\\envs\\microbase\\lib\\site-packages\\IPython\\core\\interactiveshell.py:3338: FutureWarning: The `op` parameter is deprecated and will be removed in a future release. Please use the `predicate` parameter instead.\n",
      "  if await self.run_code(code, result, async_=asy):\n"
     ]
    },
    {
     "name": "stdout",
     "output_type": "stream",
     "text": [
      "--25県の出力中--\n",
      "--25県の出力完了--\n"
     ]
    },
    {
     "name": "stderr",
     "output_type": "stream",
     "text": [
      "c:\\Users\\imai_14\\anaconda3\\envs\\microbase\\lib\\site-packages\\IPython\\core\\interactiveshell.py:3338: FutureWarning: The `op` parameter is deprecated and will be removed in a future release. Please use the `predicate` parameter instead.\n",
      "  if await self.run_code(code, result, async_=asy):\n"
     ]
    },
    {
     "name": "stdout",
     "output_type": "stream",
     "text": [
      "--26県の出力中--\n",
      "--26県の出力完了--\n"
     ]
    },
    {
     "name": "stderr",
     "output_type": "stream",
     "text": [
      "c:\\Users\\imai_14\\anaconda3\\envs\\microbase\\lib\\site-packages\\IPython\\core\\interactiveshell.py:3338: FutureWarning: The `op` parameter is deprecated and will be removed in a future release. Please use the `predicate` parameter instead.\n",
      "  if await self.run_code(code, result, async_=asy):\n"
     ]
    },
    {
     "name": "stdout",
     "output_type": "stream",
     "text": [
      "--27県の出力中--\n",
      "--27県の出力完了--\n"
     ]
    },
    {
     "name": "stderr",
     "output_type": "stream",
     "text": [
      "c:\\Users\\imai_14\\anaconda3\\envs\\microbase\\lib\\site-packages\\IPython\\core\\interactiveshell.py:3338: FutureWarning: The `op` parameter is deprecated and will be removed in a future release. Please use the `predicate` parameter instead.\n",
      "  if await self.run_code(code, result, async_=asy):\n"
     ]
    },
    {
     "name": "stdout",
     "output_type": "stream",
     "text": [
      "--28県の出力中--\n",
      "--28県の出力完了--\n"
     ]
    },
    {
     "name": "stderr",
     "output_type": "stream",
     "text": [
      "c:\\Users\\imai_14\\anaconda3\\envs\\microbase\\lib\\site-packages\\IPython\\core\\interactiveshell.py:3338: FutureWarning: The `op` parameter is deprecated and will be removed in a future release. Please use the `predicate` parameter instead.\n",
      "  if await self.run_code(code, result, async_=asy):\n"
     ]
    },
    {
     "name": "stdout",
     "output_type": "stream",
     "text": [
      "--29県の出力中--\n",
      "--29県の出力完了--\n"
     ]
    },
    {
     "name": "stderr",
     "output_type": "stream",
     "text": [
      "c:\\Users\\imai_14\\anaconda3\\envs\\microbase\\lib\\site-packages\\IPython\\core\\interactiveshell.py:3338: FutureWarning: The `op` parameter is deprecated and will be removed in a future release. Please use the `predicate` parameter instead.\n",
      "  if await self.run_code(code, result, async_=asy):\n"
     ]
    },
    {
     "name": "stdout",
     "output_type": "stream",
     "text": [
      "--30県の出力中--\n",
      "--30県の出力完了--\n"
     ]
    },
    {
     "name": "stderr",
     "output_type": "stream",
     "text": [
      "c:\\Users\\imai_14\\anaconda3\\envs\\microbase\\lib\\site-packages\\IPython\\core\\interactiveshell.py:3338: FutureWarning: The `op` parameter is deprecated and will be removed in a future release. Please use the `predicate` parameter instead.\n",
      "  if await self.run_code(code, result, async_=asy):\n"
     ]
    },
    {
     "name": "stdout",
     "output_type": "stream",
     "text": [
      "--31県の出力中--\n",
      "--31県の出力完了--\n"
     ]
    },
    {
     "name": "stderr",
     "output_type": "stream",
     "text": [
      "c:\\Users\\imai_14\\anaconda3\\envs\\microbase\\lib\\site-packages\\IPython\\core\\interactiveshell.py:3338: FutureWarning: The `op` parameter is deprecated and will be removed in a future release. Please use the `predicate` parameter instead.\n",
      "  if await self.run_code(code, result, async_=asy):\n"
     ]
    },
    {
     "name": "stdout",
     "output_type": "stream",
     "text": [
      "--32県の出力中--\n",
      "--32県の出力完了--\n"
     ]
    },
    {
     "name": "stderr",
     "output_type": "stream",
     "text": [
      "c:\\Users\\imai_14\\anaconda3\\envs\\microbase\\lib\\site-packages\\IPython\\core\\interactiveshell.py:3338: FutureWarning: The `op` parameter is deprecated and will be removed in a future release. Please use the `predicate` parameter instead.\n",
      "  if await self.run_code(code, result, async_=asy):\n"
     ]
    },
    {
     "name": "stdout",
     "output_type": "stream",
     "text": [
      "--33県の出力中--\n",
      "--33県の出力完了--\n"
     ]
    },
    {
     "name": "stderr",
     "output_type": "stream",
     "text": [
      "c:\\Users\\imai_14\\anaconda3\\envs\\microbase\\lib\\site-packages\\IPython\\core\\interactiveshell.py:3338: FutureWarning: The `op` parameter is deprecated and will be removed in a future release. Please use the `predicate` parameter instead.\n",
      "  if await self.run_code(code, result, async_=asy):\n"
     ]
    },
    {
     "name": "stdout",
     "output_type": "stream",
     "text": [
      "--34県の出力中--\n",
      "--34県の出力完了--\n"
     ]
    },
    {
     "name": "stderr",
     "output_type": "stream",
     "text": [
      "c:\\Users\\imai_14\\anaconda3\\envs\\microbase\\lib\\site-packages\\IPython\\core\\interactiveshell.py:3338: FutureWarning: The `op` parameter is deprecated and will be removed in a future release. Please use the `predicate` parameter instead.\n",
      "  if await self.run_code(code, result, async_=asy):\n"
     ]
    },
    {
     "name": "stdout",
     "output_type": "stream",
     "text": [
      "--35県の出力中--\n",
      "--35県の出力完了--\n"
     ]
    },
    {
     "name": "stderr",
     "output_type": "stream",
     "text": [
      "c:\\Users\\imai_14\\anaconda3\\envs\\microbase\\lib\\site-packages\\IPython\\core\\interactiveshell.py:3338: FutureWarning: The `op` parameter is deprecated and will be removed in a future release. Please use the `predicate` parameter instead.\n",
      "  if await self.run_code(code, result, async_=asy):\n"
     ]
    },
    {
     "name": "stdout",
     "output_type": "stream",
     "text": [
      "--36県の出力中--\n",
      "--36県の出力完了--\n"
     ]
    },
    {
     "name": "stderr",
     "output_type": "stream",
     "text": [
      "c:\\Users\\imai_14\\anaconda3\\envs\\microbase\\lib\\site-packages\\IPython\\core\\interactiveshell.py:3338: FutureWarning: The `op` parameter is deprecated and will be removed in a future release. Please use the `predicate` parameter instead.\n",
      "  if await self.run_code(code, result, async_=asy):\n"
     ]
    },
    {
     "name": "stdout",
     "output_type": "stream",
     "text": [
      "--37県の出力中--\n",
      "--37県の出力完了--\n"
     ]
    },
    {
     "name": "stderr",
     "output_type": "stream",
     "text": [
      "c:\\Users\\imai_14\\anaconda3\\envs\\microbase\\lib\\site-packages\\IPython\\core\\interactiveshell.py:3338: FutureWarning: The `op` parameter is deprecated and will be removed in a future release. Please use the `predicate` parameter instead.\n",
      "  if await self.run_code(code, result, async_=asy):\n"
     ]
    },
    {
     "name": "stdout",
     "output_type": "stream",
     "text": [
      "--38県の出力中--\n",
      "--38県の出力完了--\n"
     ]
    },
    {
     "name": "stderr",
     "output_type": "stream",
     "text": [
      "c:\\Users\\imai_14\\anaconda3\\envs\\microbase\\lib\\site-packages\\IPython\\core\\interactiveshell.py:3338: FutureWarning: The `op` parameter is deprecated and will be removed in a future release. Please use the `predicate` parameter instead.\n",
      "  if await self.run_code(code, result, async_=asy):\n"
     ]
    },
    {
     "name": "stdout",
     "output_type": "stream",
     "text": [
      "--39県の出力中--\n",
      "--39県の出力完了--\n"
     ]
    },
    {
     "name": "stderr",
     "output_type": "stream",
     "text": [
      "c:\\Users\\imai_14\\anaconda3\\envs\\microbase\\lib\\site-packages\\IPython\\core\\interactiveshell.py:3338: FutureWarning: The `op` parameter is deprecated and will be removed in a future release. Please use the `predicate` parameter instead.\n",
      "  if await self.run_code(code, result, async_=asy):\n"
     ]
    },
    {
     "name": "stdout",
     "output_type": "stream",
     "text": [
      "--40県の出力中--\n",
      "--40県の出力完了--\n"
     ]
    },
    {
     "name": "stderr",
     "output_type": "stream",
     "text": [
      "c:\\Users\\imai_14\\anaconda3\\envs\\microbase\\lib\\site-packages\\IPython\\core\\interactiveshell.py:3338: FutureWarning: The `op` parameter is deprecated and will be removed in a future release. Please use the `predicate` parameter instead.\n",
      "  if await self.run_code(code, result, async_=asy):\n"
     ]
    },
    {
     "name": "stdout",
     "output_type": "stream",
     "text": [
      "--41県の出力中--\n",
      "--41県の出力完了--\n"
     ]
    },
    {
     "name": "stderr",
     "output_type": "stream",
     "text": [
      "c:\\Users\\imai_14\\anaconda3\\envs\\microbase\\lib\\site-packages\\IPython\\core\\interactiveshell.py:3338: FutureWarning: The `op` parameter is deprecated and will be removed in a future release. Please use the `predicate` parameter instead.\n",
      "  if await self.run_code(code, result, async_=asy):\n"
     ]
    },
    {
     "name": "stdout",
     "output_type": "stream",
     "text": [
      "--42県の出力中--\n",
      "--42県の出力完了--\n"
     ]
    },
    {
     "name": "stderr",
     "output_type": "stream",
     "text": [
      "c:\\Users\\imai_14\\anaconda3\\envs\\microbase\\lib\\site-packages\\IPython\\core\\interactiveshell.py:3338: FutureWarning: The `op` parameter is deprecated and will be removed in a future release. Please use the `predicate` parameter instead.\n",
      "  if await self.run_code(code, result, async_=asy):\n"
     ]
    },
    {
     "name": "stdout",
     "output_type": "stream",
     "text": [
      "--43県の出力中--\n",
      "--43県の出力完了--\n"
     ]
    },
    {
     "name": "stderr",
     "output_type": "stream",
     "text": [
      "c:\\Users\\imai_14\\anaconda3\\envs\\microbase\\lib\\site-packages\\IPython\\core\\interactiveshell.py:3338: FutureWarning: The `op` parameter is deprecated and will be removed in a future release. Please use the `predicate` parameter instead.\n",
      "  if await self.run_code(code, result, async_=asy):\n"
     ]
    },
    {
     "name": "stdout",
     "output_type": "stream",
     "text": [
      "--44県の出力中--\n",
      "--44県の出力完了--\n"
     ]
    },
    {
     "name": "stderr",
     "output_type": "stream",
     "text": [
      "c:\\Users\\imai_14\\anaconda3\\envs\\microbase\\lib\\site-packages\\IPython\\core\\interactiveshell.py:3338: FutureWarning: The `op` parameter is deprecated and will be removed in a future release. Please use the `predicate` parameter instead.\n",
      "  if await self.run_code(code, result, async_=asy):\n"
     ]
    },
    {
     "name": "stdout",
     "output_type": "stream",
     "text": [
      "--45県の出力中--\n",
      "--45県の出力完了--\n"
     ]
    },
    {
     "name": "stderr",
     "output_type": "stream",
     "text": [
      "c:\\Users\\imai_14\\anaconda3\\envs\\microbase\\lib\\site-packages\\IPython\\core\\interactiveshell.py:3338: FutureWarning: The `op` parameter is deprecated and will be removed in a future release. Please use the `predicate` parameter instead.\n",
      "  if await self.run_code(code, result, async_=asy):\n"
     ]
    },
    {
     "name": "stdout",
     "output_type": "stream",
     "text": [
      "--46県の出力中--\n",
      "--46県の出力完了--\n"
     ]
    },
    {
     "name": "stderr",
     "output_type": "stream",
     "text": [
      "c:\\Users\\imai_14\\anaconda3\\envs\\microbase\\lib\\site-packages\\IPython\\core\\interactiveshell.py:3338: FutureWarning: The `op` parameter is deprecated and will be removed in a future release. Please use the `predicate` parameter instead.\n",
      "  if await self.run_code(code, result, async_=asy):\n"
     ]
    },
    {
     "name": "stdout",
     "output_type": "stream",
     "text": [
      "--47県の出力中--\n",
      "--47県の出力完了--\n"
     ]
    },
    {
     "ename": "",
     "evalue": "",
     "output_type": "error",
     "traceback": [
      "\u001b[1;31mThe Kernel crashed while executing code in the the current cell or a previous cell. Please review the code in the cell(s) to identify a possible cause of the failure. Click <a href='https://aka.ms/vscodeJupyterKernelCrash'>here</a> for more info. View Jupyter <a href='command:jupyter.viewOutput'>log</a> for further details."
     ]
    }
   ],
   "source": [
    "pref_polygon_path = 'I:/マイドライブ/水道管劣化予測/水道管劣化予測/src/国土数値情報/土地利用メッシュ/mesh_for_work/prefecture_polygon/prefecture.geojson'\n",
    "pref_polygon = gpd.read_file(pref_polygon_path)\n",
    "\n",
    "i = 1\n",
    "\n",
    "for index, pref in pref_polygon.iloc[2:].iterrows():\n",
    "    \n",
    "    # GeoDataFrameを作成し、'geometry'カラムを設定します\n",
    "    gdf_pref = gpd.GeoDataFrame(geometry=[pref['geometry']])\n",
    "    \n",
    "    if gdf_pref.crs is None:\n",
    "\t    gdf_pref.set_crs(epsg=4326, inplace=True)\n",
    "    \n",
    "    pref_100m_mesh = gpd.sjoin(gdf_pref, national_100m_mesh, op='intersects')\n",
    "    pref_100m_mesh['pref'] = pref[0]\n",
    "    pref_100m_mesh['name'] = pref[1]\n",
    "    \n",
    "    pref_100m_mesh = pref_100m_mesh[['pref', 'name', 'メッシュ', '土地利用種', '撮影年月日']]\n",
    "\n",
    "    pref_100m_mesh = pd.merge(pref_100m_mesh, national_100m_mesh[['メッシュ', 'geometry']], on='メッシュ')\n",
    "    \n",
    "    print(f'--{i}県の出力中--')\n",
    "    pref_100m_path = f'I:/マイドライブ/水道管劣化予測/水道管劣化予測/src/国土数値情報/平年値メッシュ/平年値メッシュ_全国版/{i}_1kM_weather.geojson'\n",
    "    gpd.GeoDataFrame(pref_100m_mesh, geometry='geometry').to_file(pref_100m_path)\n",
    "    print(f'--{i}県の出力完了--')\n",
    "    \n",
    "    i += 1"
   ]
  }
 ],
 "metadata": {
  "kernelspec": {
   "display_name": "microbase",
   "language": "python",
   "name": "python3"
  },
  "language_info": {
   "codemirror_mode": {
    "name": "ipython",
    "version": 3
   },
   "file_extension": ".py",
   "mimetype": "text/x-python",
   "name": "python",
   "nbconvert_exporter": "python",
   "pygments_lexer": "ipython3",
   "version": "3.8.16"
  },
  "orig_nbformat": 4
 },
 "nbformat": 4,
 "nbformat_minor": 2
}
