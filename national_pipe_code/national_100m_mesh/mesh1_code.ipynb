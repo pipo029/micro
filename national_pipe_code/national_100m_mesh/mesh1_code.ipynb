{
 "cells": [
  {
   "cell_type": "code",
   "execution_count": 1,
   "metadata": {},
   "outputs": [],
   "source": [
    "import geopandas as gpd\n",
    "import pandas as pd"
   ]
  },
  {
   "cell_type": "code",
   "execution_count": 29,
   "metadata": {},
   "outputs": [],
   "source": [
    "def loads_file(file):\n",
    "    gdf = gpd.read_file(file)\n",
    "    return gdf\n",
    "\n",
    "def save_file(df, path):\n",
    "    df.to_csv(path, index=False)"
   ]
  },
  {
   "cell_type": "code",
   "execution_count": 30,
   "metadata": {},
   "outputs": [],
   "source": [
    "def two_to_one_meshcode(mesh2):\n",
    "    # ２次メッシュコードのとりだし\n",
    "    mesh2_code = (mesh2['Name'].astype(int) / 100)\n",
    "    # 1次メッシュコードの作成\n",
    "    mesh1_code = mesh2_code // 1\n",
    "    mesh1_code_unique = mesh1_code.drop_duplicates().reset_index(drop=True).astype(int)\n",
    "    \n",
    "    return mesh1_code_unique"
   ]
  },
  {
   "cell_type": "code",
   "execution_count": 32,
   "metadata": {},
   "outputs": [],
   "source": [
    "mesh2_path = 'I:/マイドライブ/水道管劣化予測/水道管劣化予測/src/国土数値情報/土地利用メッシュ/mesh_for_work/mesh1_code/mesh2/mesh2.shp'\n",
    "gdf_mesh2 = loads_file(mesh2_path)\n",
    "\n",
    "\n",
    "mesh1_code = two_to_one_meshcode(gdf_mesh2)\n",
    "\n",
    "\n",
    "mesh1_path = 'I:/マイドライブ/水道管劣化予測/水道管劣化予測/src/国土数値情報/土地利用メッシュ/mesh_for_work/mesh1_code/mesh1.csv'\n",
    "save_file(mesh1_code, mesh1_path)"
   ]
  },
  {
   "cell_type": "code",
   "execution_count": 33,
   "metadata": {},
   "outputs": [
    {
     "data": {
      "text/plain": [
       "0      3036\n",
       "1      3622\n",
       "2      3623\n",
       "3      3624\n",
       "4      3631\n",
       "       ... \n",
       "171    6840\n",
       "172    6841\n",
       "173    6842\n",
       "174    6847\n",
       "175    6848\n",
       "Name: Name, Length: 176, dtype: int32"
      ]
     },
     "execution_count": 33,
     "metadata": {},
     "output_type": "execute_result"
    }
   ],
   "source": [
    "mesh1_code"
   ]
  }
 ],
 "metadata": {
  "kernelspec": {
   "display_name": "microbase",
   "language": "python",
   "name": "python3"
  },
  "language_info": {
   "codemirror_mode": {
    "name": "ipython",
    "version": 3
   },
   "file_extension": ".py",
   "mimetype": "text/x-python",
   "name": "python",
   "nbconvert_exporter": "python",
   "pygments_lexer": "ipython3",
   "version": "3.9.16"
  },
  "orig_nbformat": 4
 },
 "nbformat": 4,
 "nbformat_minor": 2
}
